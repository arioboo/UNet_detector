{
 "cells": [
  {
   "cell_type": "code",
   "execution_count": 1,
   "metadata": {},
   "outputs": [],
   "source": [
    "###---<CommandNotebook_analysis.ipynb>---###\n",
    "############-----------author:arioboo------------###############\n",
    "%load_ext autoreload\n",
    "%autoreload 2"
   ]
  },
  {
   "cell_type": "markdown",
   "metadata": {},
   "source": [
    "Mstar.txt\n",
    "Contains mass components in several different spheres.\n",
    "I used these files to look at M_star / M_halo in different regions.\n",
    "Most of this information appears already elsewhere.\n",
    "No kinematic criteria is used for stars or dark matter.\n",
    "The number of snapshots is NOT listed here!\n",
    "There is one line per snapshot, where the columns are as follows:\n",
    "\n",
    "    column 1: expansion factor\n",
    "    column 2: Rvir, in kpc\n",
    "    column 3: Rdisc, in kpc\n",
    "    column 4: Virial mass, in M_{sun} This is the Total mass within Rvir (gas+stars+dark matter)\n",
    "    column 5: Gas mass within Rvir, in M_{sun}\n",
    "    column 6: Stellar mass within Rvir, in M_{sun}, accounting for stellar mass loss (i.e. the current stellar mass)\n",
    "    column 7: Stellar mass within Rvir, in M_{sun}, NOT accounting for stellar mass loss (i.e. the initial stellar mass)\n",
    "    column 8: Dark matter mass within Rvir, in M_{sun}\n",
    "    column 9: Gas mass within 0.1*Rvir, in M_{sun}\n",
    "    column 10: Stellar mass within 0.1*Rvir, in M_{sun}, accounting for stellar mass loss.\n",
    "    column 11: Stellar mass within 0.1*Rvir, in M_{sun}, NOT accounting for stellar mass loss.\n",
    "    column 12: Dark matter mass within 0.1*Rvir, in M_{sun}\n",
    "    column 13: Gas mass within 10kpc, in M_{sun}\n",
    "    column 14: Stellar mass within 10kpc, in M_{sun}, accounting for stellar mass loss.\n",
    "    column 15: Stellar mass within 10kpc, in M_{sun}, NOT accounting for stellar mass loss.\n",
    "    column 16: Dark matter mass within 10kpc, in M_{sun}\n",
    "    column 17: Gas mass within Rdisc, in M_{sun}\n",
    "    column 18: Stellar mass within Rdisc, in M_{sun}, accounting for stellar mass loss.\n",
    "    column 19: Stellar mass within Rdisc, in M_{sun}, NOT accounting for stellar mass loss.\n",
    "    column 20: Dark matter mass within Rdisc, in M_{sun}\n"
   ]
  },
  {
   "cell_type": "code",
   "execution_count": 92,
   "metadata": {},
   "outputs": [],
   "source": [
    "###--------------------------<START>-------------------------###\n",
    "    #-<general modules>-#\n",
    "''' \n",
    "import numpy as np\n",
    "import os\n",
    "import sys\n",
    "import pandas as pd\n",
    "import glob\n",
    "'''\n",
    "import matplotlib.pylab as pl\n",
    "pl.ion()\n",
    "from io import StringIO\n",
    "    #-<custom modules>-#\n",
    "from cat_params import *   #Gcat_filename #modcat_filename #Mstar_filename"
   ]
  },
  {
   "cell_type": "code",
   "execution_count": 93,
   "metadata": {},
   "outputs": [],
   "source": [
    "#Original catalog (\"Gcat.csv\")\n",
    "Gcat = pd.read_csv(Gcat_filename,index_col=[0])"
   ]
  },
  {
   "cell_type": "code",
   "execution_count": 94,
   "metadata": {},
   "outputs": [
    {
     "ename": "SyntaxError",
     "evalue": "can't assign to operator (<ipython-input-94-2844e1e6a5ac>, line 2)",
     "output_type": "error",
     "traceback": [
      "\u001b[0;36m  File \u001b[0;32m\"<ipython-input-94-2844e1e6a5ac>\"\u001b[0;36m, line \u001b[0;32m2\u001b[0m\n\u001b[0;31m    +cat = Gcat\u001b[0m\n\u001b[0m               ^\u001b[0m\n\u001b[0;31mSyntaxError\u001b[0m\u001b[0;31m:\u001b[0m can't assign to operator\n"
     ]
    }
   ],
   "source": [
    "#Operable and modifiable catalog (originally = Gcat)\n",
    "cat = Gcat"
   ]
  },
  {
   "cell_type": "code",
   "execution_count": 38,
   "metadata": {},
   "outputs": [
    {
     "name": "stdout",
     "output_type": "stream",
     "text": [
      "Array of Mstar values:\n",
      "Shape: (39, 20)\n"
     ]
    }
   ],
   "source": [
    "# Read from array \"Mstar.txt\" and assign to values:\n",
    "Mstar_array = np.genfromtxt(Mstar_filename,skip_header=1)         #skip_header (1 line)\n",
    "# Array comprobation.\n",
    "print(\"Array of Mstar values:\")\n",
    "print(\"Shape:\",np.shape(array))\n",
    "\n",
    "# Assign values:\n",
    "(a0               , Rvir                  , Rdisc                  , virMass_Rvir    ,\n",
    " gasMass_Rvir     , stellarMass_Rvir_ml   , stellarMass_Rvir_nml   , darkMass_Rvir   ,\n",
    " gasMass_01Rvir   , stellarMass_01Rvir_ml , stellarMass_01Rvir_nml , darkMass_01Rvir ,\n",
    " gasMass_10kpc    , stellarMass_10kpc_ml  , stellarMass_10kpc_nml  , darkMass_10kpc  ,\n",
    " gasMass_Rdisc    , stellarMass_Rdisc_ml  , stellarMass_Rdisc_nml  , darkMass_Rdisc   ) = Mstar_array.T          # .T means \"unpack\""
   ]
  },
  {
   "cell_type": "code",
   "execution_count": 91,
   "metadata": {},
   "outputs": [
    {
     "data": {
      "image/png": "[encoded data removed]",
      "text/plain": [
       "<Figure size 432x288 with 1 Axes>"
      ]
     },
     "metadata": {},
     "output_type": "display_data"
    }
   ],
   "source": [
    "#--Function: plot_by_param --#\n",
    "def plot_by_param(param):\n",
    "    fig,ax=pl.subplots()\n",
    "    ax.set_title('Plot by parameter')\n",
    "    ax.set_xlabel('Bins'); ax.set_ylabel('Parameter')\n",
    "    ax.plot(param)\n",
    "    return\n",
    "\n",
    "variable = darkMass_10kpc  # CHANGE!\n",
    "plot_by_param(variable)\n"
   ]
  },
  {
   "cell_type": "markdown",
   "metadata": {},
   "source": [
    "To convert between physical KPC to pixel numbers, I take the floor of the following expression\n",
    ">\n",
    ">         (i,j) = floor( ((2x/p) - 1, (2y/p) -1) / 2 )\n",
    ">         where p is the pixel size PIXKPC."
   ]
  },
  {
   "cell_type": "code",
   "execution_count": null,
   "metadata": {},
   "outputs": [],
   "source": []
  },
  {
   "cell_type": "code",
   "execution_count": 6,
   "metadata": {},
   "outputs": [],
   "source": [
    "#modified catalog (\"modcat.csv\")\n",
    "Gcat.to_csv(modcat_filename)"
   ]
  },
  {
   "cell_type": "code",
   "execution_count": null,
   "metadata": {},
   "outputs": [],
   "source": [
    "###-----------------------<END>----------------------------###"
   ]
  }
 ],
 "metadata": {
  "kernelspec": {
   "display_name": "Python 3",
   "language": "python",
   "name": "python3"
  },
  "language_info": {
   "codemirror_mode": {
    "name": "ipython",
    "version": 3
   },
   "file_extension": ".py",
   "mimetype": "text/x-python",
   "name": "python",
   "nbconvert_exporter": "python",
   "pygments_lexer": "ipython3",
   "version": "3.4.6"
  }
 },
 "nbformat": 4,
 "nbformat_minor": 2
}
