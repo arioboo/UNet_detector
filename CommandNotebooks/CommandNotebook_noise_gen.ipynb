{
 "cells": [
  {
   "cell_type": "code",
   "execution_count": 1,
   "metadata": {},
   "outputs": [
    {
     "name": "stdout",
     "output_type": "stream",
     "text": [
      "\u001b[33mDEPRECATION: Python 3.4 support has been deprecated. pip 19.1 will be the last one supporting it. Please upgrade your Python as Python 3.4 won't be maintained after March 2019 (cf PEP 429).\u001b[0m\n",
      "Requirement already satisfied: numpy in /usr/local/lib/python3.4/site-packages (from -r requirements_noise_gen.txt (line 3)) (1.14.2)\n",
      "Requirement already satisfied: sep in /usr/local/lib/python3.4/site-packages (from -r requirements_noise_gen.txt (line 5)) (1.0.3)\n",
      "Requirement already satisfied: photutils in /usr/local/lib/python3.4/site-packages (from -r requirements_noise_gen.txt (line 6)) (0.4.1)\n",
      "Requirement already satisfied: astropy in /usr/local/lib/python3.4/site-packages (from -r requirements_noise_gen.txt (line 8)) (2.0.12)\n",
      "Requirement already satisfied: matplotlib in /usr/local/lib/python3.4/site-packages (from -r requirements_noise_gen.txt (line 9)) (2.2.2)\n",
      "Requirement already satisfied: sklearn in /usr/local/lib/python3.4/site-packages (from -r requirements_noise_gen.txt (line 13)) (0.0)\n",
      "Requirement already satisfied: scipy in /usr/local/lib/python3.4/site-packages (from -r requirements_noise_gen.txt (line 16)) (1.0.1)\n",
      "Requirement already satisfied: six in /usr/local/lib/python3.4/site-packages (from photutils->-r requirements_noise_gen.txt (line 6)) (1.11.0)\n",
      "Requirement already satisfied: pytest<3.7,>=2.8 in /usr/local/lib/python3.4/site-packages (from astropy->-r requirements_noise_gen.txt (line 8)) (3.6.4)\n",
      "Requirement already satisfied: pytz in /usr/local/lib/python3.4/site-packages (from matplotlib->-r requirements_noise_gen.txt (line 9)) (2018.3)\n",
      "Requirement already satisfied: kiwisolver>=1.0.1 in /usr/local/lib/python3.4/site-packages (from matplotlib->-r requirements_noise_gen.txt (line 9)) (1.0.1)\n",
      "Requirement already satisfied: cycler>=0.10 in /usr/local/lib/python3.4/site-packages (from matplotlib->-r requirements_noise_gen.txt (line 9)) (0.10.0)\n",
      "Requirement already satisfied: python-dateutil>=2.1 in /usr/local/lib/python3.4/site-packages (from matplotlib->-r requirements_noise_gen.txt (line 9)) (2.7.2)\n",
      "Requirement already satisfied: pyparsing!=2.0.4,!=2.1.2,!=2.1.6,>=2.0.1 in /usr/local/lib/python3.4/site-packages (from matplotlib->-r requirements_noise_gen.txt (line 9)) (2.2.0)\n",
      "Requirement already satisfied: scikit-learn in /usr/local/lib/python3.4/site-packages (from sklearn->-r requirements_noise_gen.txt (line 13)) (0.19.1)\n",
      "Requirement already satisfied: setuptools in /usr/local/lib/python3.4/site-packages (from pytest<3.7,>=2.8->astropy->-r requirements_noise_gen.txt (line 8)) (39.0.1)\n",
      "Requirement already satisfied: py>=1.5.0 in /usr/local/lib/python3.4/site-packages (from pytest<3.7,>=2.8->astropy->-r requirements_noise_gen.txt (line 8)) (1.8.0)\n",
      "Requirement already satisfied: attrs>=17.4.0 in /usr/local/lib/python3.4/site-packages (from pytest<3.7,>=2.8->astropy->-r requirements_noise_gen.txt (line 8)) (19.1.0)\n",
      "Requirement already satisfied: more-itertools>=4.0.0 in /usr/local/lib/python3.4/site-packages (from pytest<3.7,>=2.8->astropy->-r requirements_noise_gen.txt (line 8)) (7.0.0)\n",
      "Requirement already satisfied: pluggy<0.8,>=0.5 in /usr/local/lib/python3.4/site-packages (from pytest<3.7,>=2.8->astropy->-r requirements_noise_gen.txt (line 8)) (0.7.1)\n",
      "Requirement already satisfied: atomicwrites>=1.0 in /usr/local/lib/python3.4/site-packages (from pytest<3.7,>=2.8->astropy->-r requirements_noise_gen.txt (line 8)) (1.3.0)\n"
     ]
    }
   ],
   "source": [
    "###---<Command Notebook \"noise_gen\">---###\n",
    "!pip install -r \"requirements_noise_gen.txt\"\n",
    "#!pip install sep\n",
    "#!pip install copy"
   ]
  },
  {
   "cell_type": "code",
   "execution_count": 2,
   "metadata": {},
   "outputs": [],
   "source": [
    "###---<noise_addition_pipeline.py>---###\n",
    "#-<this_file imports>-#\n",
    "from astropy.io import fits\n",
    "from astropy.convolution import Tophat2DKernel, Gaussian2DKernel, Box2DKernel, convolve\n",
    "from astropy.stats import gaussian_fwhm_to_sigma\n",
    "from astropy.visualization import (MinMaxInterval,PercentileInterval,ZScaleInterval,SqrtStretch,AsinhStretch,LogStretch,ImageNormalize)\n",
    "\n",
    "import numpy as np\n",
    "from scipy import fftpack\n",
    "import matplotlib.pyplot as plt\n",
    "from matplotlib.patches import Ellipse\n",
    "import os\n",
    "import sep                                                # not in Python3.x \n",
    "\n",
    "import warnings\n",
    "from sklearn.feature_extraction import image\n",
    "from copy import deepcopy                                 # not in Python3.x\n",
    "\n",
    "import photutils.utils as pht_utl                         # not in Python3.x \n",
    "\n",
    "#-<custom_imports>-#\n",
    "import radialProfile"
   ]
  },
  {
   "cell_type": "code",
   "execution_count": 3,
   "metadata": {},
   "outputs": [],
   "source": [
    "###---<noise_addition_frontend.py>---###\n",
    "\n",
    "import noise_addition_pipeline    # lacks \"sep\", \"photutils\"\n",
    "###############\n",
    "import glob\n",
    "import numpy as np\n",
    "import os\n"
   ]
  },
  {
   "cell_type": "code",
   "execution_count": 4,
   "metadata": {},
   "outputs": [],
   "source": [
    "###---<radialProfile.py>---###\n",
    "import numpy as np"
   ]
  },
  {
   "cell_type": "code",
   "execution_count": 7,
   "metadata": {},
   "outputs": [
    {
     "name": "stdout",
     "output_type": "stream",
     "text": [
      "['/notebooks/CLUMPS_VELA/noise_gen/VELA01_F160W_SB00/VELA01_a0.350_sunrise_cam00_WFC3-F160W_SB00.fits', '/notebooks/CLUMPS_VELA/noise_gen/VELA01_F160W_SB00/VELA01_a0.130_sunrise_cam00_WFC3-F160W_SB00.fits', '/notebooks/CLUMPS_VELA/noise_gen/VELA01_F160W_SB00/VELA01_a0.390_sunrise_cam00_WFC3-F160W_SB00.fits', '/notebooks/CLUMPS_VELA/noise_gen/VELA01_F160W_SB00/VELA01_a0.380_sunrise_cam00_WFC3-F160W_SB00.fits', '/notebooks/CLUMPS_VELA/noise_gen/VELA01_F160W_SB00/VELA01_a0.300_sunrise_cam00_WFC3-F160W_SB00.fits', '/notebooks/CLUMPS_VELA/noise_gen/VELA01_F160W_SB00/VELA01_a0.070_sunrise_cam00_WFC3-F160W_SB00.fits', '/notebooks/CLUMPS_VELA/noise_gen/VELA01_F160W_SB00/VELA01_a0.490_sunrise_cam00_WFC3-F160W_SB00.fits', '/notebooks/CLUMPS_VELA/noise_gen/VELA01_F160W_SB00/VELA01_a0.110_sunrise_cam00_WFC3-F160W_SB00.fits', '/notebooks/CLUMPS_VELA/noise_gen/VELA01_F160W_SB00/VELA01_a0.420_sunrise_cam00_WFC3-F160W_SB00.fits', '/notebooks/CLUMPS_VELA/noise_gen/VELA01_F160W_SB00/VELA01_a0.340_sunrise_cam00_WFC3-F160W_SB00.fits', '/notebooks/CLUMPS_VELA/noise_gen/VELA01_F160W_SB00/VELA01_a0.360_sunrise_cam00_WFC3-F160W_SB00.fits', '/notebooks/CLUMPS_VELA/noise_gen/VELA01_F160W_SB00/VELA01_a0.270_sunrise_cam00_WFC3-F160W_SB00.fits', '/notebooks/CLUMPS_VELA/noise_gen/VELA01_F160W_SB00/VELA01_a0.120_sunrise_cam00_WFC3-F160W_SB00.fits', '/notebooks/CLUMPS_VELA/noise_gen/VELA01_F160W_SB00/VELA01_a0.400_sunrise_cam00_WFC3-F160W_SB00.fits', '/notebooks/CLUMPS_VELA/noise_gen/VELA01_F160W_SB00/VELA01_a0.290_sunrise_cam00_WFC3-F160W_SB00.fits', '/notebooks/CLUMPS_VELA/noise_gen/VELA01_F160W_SB00/VELA01_a0.170_sunrise_cam00_WFC3-F160W_SB00.fits', '/notebooks/CLUMPS_VELA/noise_gen/VELA01_F160W_SB00/VELA01_a0.410_sunrise_cam00_WFC3-F160W_SB00.fits', '/notebooks/CLUMPS_VELA/noise_gen/VELA01_F160W_SB00/VELA01_a0.090_sunrise_cam00_WFC3-F160W_SB00.fits', '/notebooks/CLUMPS_VELA/noise_gen/VELA01_F160W_SB00/VELA01_a0.050_sunrise_cam00_WFC3-F160W_SB00.fits', '/notebooks/CLUMPS_VELA/noise_gen/VELA01_F160W_SB00/VELA01_a0.210_sunrise_cam00_WFC3-F160W_SB00.fits', '/notebooks/CLUMPS_VELA/noise_gen/VELA01_F160W_SB00/VELA01_a0.470_sunrise_cam00_WFC3-F160W_SB00.fits', '/notebooks/CLUMPS_VELA/noise_gen/VELA01_F160W_SB00/VELA01_a0.370_sunrise_cam00_WFC3-F160W_SB00.fits', '/notebooks/CLUMPS_VELA/noise_gen/VELA01_F160W_SB00/VELA01_a0.200_sunrise_cam00_WFC3-F160W_SB00.fits', '/notebooks/CLUMPS_VELA/noise_gen/VELA01_F160W_SB00/VELA01_a0.450_sunrise_cam00_WFC3-F160W_SB00.fits', '/notebooks/CLUMPS_VELA/noise_gen/VELA01_F160W_SB00/VELA01_a0.330_sunrise_cam00_WFC3-F160W_SB00.fits', '/notebooks/CLUMPS_VELA/noise_gen/VELA01_F160W_SB00/VELA01_a0.320_sunrise_cam00_WFC3-F160W_SB00.fits', '/notebooks/CLUMPS_VELA/noise_gen/VELA01_F160W_SB00/VELA01_a0.260_sunrise_cam00_WFC3-F160W_SB00.fits', '/notebooks/CLUMPS_VELA/noise_gen/VELA01_F160W_SB00/VELA01_a0.500_sunrise_cam00_WFC3-F160W_SB00.fits', '/notebooks/CLUMPS_VELA/noise_gen/VELA01_F160W_SB00/VELA01_a0.150_sunrise_cam00_WFC3-F160W_SB00.fits', '/notebooks/CLUMPS_VELA/noise_gen/VELA01_F160W_SB00/VELA01_a0.240_sunrise_cam00_WFC3-F160W_SB00.fits', '/notebooks/CLUMPS_VELA/noise_gen/VELA01_F160W_SB00/VELA01_a0.140_sunrise_cam00_WFC3-F160W_SB00.fits', '/notebooks/CLUMPS_VELA/noise_gen/VELA01_F160W_SB00/VELA01_a0.280_sunrise_cam00_WFC3-F160W_SB00.fits', '/notebooks/CLUMPS_VELA/noise_gen/VELA01_F160W_SB00/VELA01_a0.160_sunrise_cam00_WFC3-F160W_SB00.fits', '/notebooks/CLUMPS_VELA/noise_gen/VELA01_F160W_SB00/VELA01_a0.480_sunrise_cam00_WFC3-F160W_SB00.fits', '/notebooks/CLUMPS_VELA/noise_gen/VELA01_F160W_SB00/VELA01_a0.310_sunrise_cam00_WFC3-F160W_SB00.fits', '/notebooks/CLUMPS_VELA/noise_gen/VELA01_F160W_SB00/VELA01_a0.430_sunrise_cam00_WFC3-F160W_SB00.fits', '/notebooks/CLUMPS_VELA/noise_gen/VELA01_F160W_SB00/VELA01_a0.440_sunrise_cam00_WFC3-F160W_SB00.fits', '/notebooks/CLUMPS_VELA/noise_gen/VELA01_F160W_SB00/VELA01_a0.060_sunrise_cam00_WFC3-F160W_SB00.fits', '/notebooks/CLUMPS_VELA/noise_gen/VELA01_F160W_SB00/VELA01_a0.250_sunrise_cam00_WFC3-F160W_SB00.fits', '/notebooks/CLUMPS_VELA/noise_gen/VELA01_F160W_SB00/VELA01_a0.220_sunrise_cam00_WFC3-F160W_SB00.fits', '/notebooks/CLUMPS_VELA/noise_gen/VELA01_F160W_SB00/VELA01_a0.190_sunrise_cam00_WFC3-F160W_SB00.fits', '/notebooks/CLUMPS_VELA/noise_gen/VELA01_F160W_SB00/VELA01_a0.230_sunrise_cam00_WFC3-F160W_SB00.fits', '/notebooks/CLUMPS_VELA/noise_gen/VELA01_F160W_SB00/VELA01_a0.080_sunrise_cam00_WFC3-F160W_SB00.fits', '/notebooks/CLUMPS_VELA/noise_gen/VELA01_F160W_SB00/VELA01_a0.460_sunrise_cam00_WFC3-F160W_SB00.fits']\n"
     ]
    }
   ],
   "source": [
    "noise_gen_dir = '/notebooks/CLUMPS_VELA/noise_gen/'                                      #<ME>\n",
    "list_of_candels_image = glob.glob( noise_gen_dir + 'VELA01_F160W_SB00/*.fits' )                #<ME> #Return only directory\n",
    "print(list_of_candels_image)\n",
    "\n",
    "\n"
   ]
  },
  {
   "cell_type": "code",
   "execution_count": null,
   "metadata": {},
   "outputs": [],
   "source": [
    "#---<END>---#"
   ]
  }
 ],
 "metadata": {
  "kernelspec": {
   "display_name": "Python 3",
   "language": "python",
   "name": "python3"
  },
  "language_info": {
   "codemirror_mode": {
    "name": "ipython",
    "version": 3
   },
   "file_extension": ".py",
   "mimetype": "text/x-python",
   "name": "python",
   "nbconvert_exporter": "python",
   "pygments_lexer": "ipython3",
   "version": "3.4.6"
  }
 },
 "nbformat": 4,
 "nbformat_minor": 2
}
