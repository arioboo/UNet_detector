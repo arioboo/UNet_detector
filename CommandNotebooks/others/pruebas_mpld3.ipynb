{
 "cells": [
  {
   "cell_type": "code",
   "execution_count": null,
   "metadata": {},
   "outputs": [
    {
     "name": "stdout",
     "output_type": "stream",
     "text": [
      "\u001b[33mDEPRECATION: Python 3.4 support has been deprecated. pip 19.1 will be the last one supporting it. Please upgrade your Python as Python 3.4 won't be maintained after March 2019 (cf PEP 429).\u001b[0m\n",
      "Requirement already satisfied: mpld3 in /usr/local/lib/python3.4/site-packages (0.3)\n"
     ]
    }
   ],
   "source": [
    "###---<pruebas_mpld3.ipynb>---###\n",
    "!pip install mpld3"
   ]
  },
  {
   "cell_type": "code",
   "execution_count": 1,
   "metadata": {},
   "outputs": [],
   "source": [
    "import matplotlib.pylab as pl,mpld3"
   ]
  },
  {
   "cell_type": "code",
   "execution_count": 2,
   "metadata": {},
   "outputs": [
    {
     "data": {
      "text/plain": [
       "[<matplotlib.lines.Line2D at 0x7f52c0507278>]"
      ]
     },
     "execution_count": 2,
     "metadata": {},
     "output_type": "execute_result"
    },
    {
     "data": {
      "image/png": "[encoded data removed]",
      "text/plain": [
       "<Figure size 432x288 with 1 Axes>"
      ]
     },
     "metadata": {},
     "output_type": "display_data"
    }
   ],
   "source": [
    "#basic example\n",
    "\n",
    "fig, ax = pl.subplots()\n",
    "ax.plot([1,2,3],[1,2,3],'r')\n",
    "\n"
   ]
  },
  {
   "cell_type": "code",
   "execution_count": 3,
   "metadata": {},
   "outputs": [],
   "source": [
    "mpld3.enable_notebook()"
   ]
  },
  {
   "cell_type": "code",
   "execution_count": 4,
   "metadata": {},
   "outputs": [
    {
     "data": {
      "image/png": "[encoded data removed]",
      "text/html": [
       "\n",
       "\n",
       "<style>\n",
       "\n",
       "</style>\n",
       "\n",
       "<div id=\"fig_el71001399937948691764438350868\"></div>\n",
       "<script>\n",
       "function mpld3_load_lib(url, callback){\n",
       "  var s = document.createElement('script');\n",
       "  s.src = url;\n",
       "  s.async = true;\n",
       "  s.onreadystatechange = s.onload = callback;\n",
       "  s.onerror = function(){console.warn(\"failed to load library \" + url);};\n",
       "  document.getElementsByTagName(\"head\")[0].appendChild(s);\n",
       "}\n",
       "\n",
       "if(typeof(mpld3) !== \"undefined\" && mpld3._mpld3IsLoaded){\n",
       "   // already loaded: just create the figure\n",
       "   !function(mpld3){\n",
       "       \n",
       "       mpld3.draw_figure(\"fig_el71001399937948691764438350868\", {\"id\": \"el7100139993794869176\", \"width\": 432.0, \"axes\": [{\"bbox\": [0.125, 0.125, 0.775, 0.755], \"paths\": [], \"axes\": [{\"position\": \"bottom\", \"grid\": {\"gridOn\": false}, \"nticks\": 11, \"scale\": \"linear\", \"visible\": true, \"tickvalues\": null, \"fontsize\": 10.0, \"tickformat\": null}, {\"position\": \"left\", \"grid\": {\"gridOn\": false}, \"nticks\": 11, \"scale\": \"linear\", \"visible\": true, \"tickvalues\": null, \"fontsize\": 10.0, \"tickformat\": null}], \"sharex\": [], \"xdomain\": [0.9, 3.1], \"lines\": [{\"coordinates\": \"data\", \"xindex\": 0, \"id\": \"el7100139993390543480\", \"alpha\": 1, \"linewidth\": 1.5, \"dasharray\": \"none\", \"data\": \"data01\", \"zorder\": 2, \"yindex\": 1, \"color\": \"#FF0000\", \"drawstyle\": \"default\"}], \"ylim\": [0.9, 3.1], \"markers\": [], \"axesbg\": \"#FFFFFF\", \"yscale\": \"linear\", \"ydomain\": [0.9, 3.1], \"collections\": [], \"axesbgalpha\": null, \"images\": [], \"id\": \"el7100139993390545216\", \"sharey\": [], \"xscale\": \"linear\", \"texts\": [], \"zoomable\": true, \"xlim\": [0.9, 3.1]}], \"data\": {\"data01\": [[1.0, 1.0], [2.0, 2.0], [3.0, 3.0]]}, \"plugins\": [{\"type\": \"reset\"}, {\"enabled\": false, \"button\": true, \"type\": \"zoom\"}, {\"enabled\": false, \"button\": true, \"type\": \"boxzoom\"}], \"height\": 288.0});\n",
       "   }(mpld3);\n",
       "}else if(typeof define === \"function\" && define.amd){\n",
       "   // require.js is available: use it to load d3/mpld3\n",
       "   require.config({paths: {d3: \"https://mpld3.github.io/js/d3.v3.min\"}});\n",
       "   require([\"d3\"], function(d3){\n",
       "      window.d3 = d3;\n",
       "      mpld3_load_lib(\"https://mpld3.github.io/js/mpld3.v0.3.js\", function(){\n",
       "         \n",
       "         mpld3.draw_figure(\"fig_el71001399937948691764438350868\", {\"id\": \"el7100139993794869176\", \"width\": 432.0, \"axes\": [{\"bbox\": [0.125, 0.125, 0.775, 0.755], \"paths\": [], \"axes\": [{\"position\": \"bottom\", \"grid\": {\"gridOn\": false}, \"nticks\": 11, \"scale\": \"linear\", \"visible\": true, \"tickvalues\": null, \"fontsize\": 10.0, \"tickformat\": null}, {\"position\": \"left\", \"grid\": {\"gridOn\": false}, \"nticks\": 11, \"scale\": \"linear\", \"visible\": true, \"tickvalues\": null, \"fontsize\": 10.0, \"tickformat\": null}], \"sharex\": [], \"xdomain\": [0.9, 3.1], \"lines\": [{\"coordinates\": \"data\", \"xindex\": 0, \"id\": \"el7100139993390543480\", \"alpha\": 1, \"linewidth\": 1.5, \"dasharray\": \"none\", \"data\": \"data01\", \"zorder\": 2, \"yindex\": 1, \"color\": \"#FF0000\", \"drawstyle\": \"default\"}], \"ylim\": [0.9, 3.1], \"markers\": [], \"axesbg\": \"#FFFFFF\", \"yscale\": \"linear\", \"ydomain\": [0.9, 3.1], \"collections\": [], \"axesbgalpha\": null, \"images\": [], \"id\": \"el7100139993390545216\", \"sharey\": [], \"xscale\": \"linear\", \"texts\": [], \"zoomable\": true, \"xlim\": [0.9, 3.1]}], \"data\": {\"data01\": [[1.0, 1.0], [2.0, 2.0], [3.0, 3.0]]}, \"plugins\": [{\"type\": \"reset\"}, {\"enabled\": false, \"button\": true, \"type\": \"zoom\"}, {\"enabled\": false, \"button\": true, \"type\": \"boxzoom\"}], \"height\": 288.0});\n",
       "      });\n",
       "    });\n",
       "}else{\n",
       "    // require.js not available: dynamically load d3 & mpld3\n",
       "    mpld3_load_lib(\"https://mpld3.github.io/js/d3.v3.min.js\", function(){\n",
       "         mpld3_load_lib(\"https://mpld3.github.io/js/mpld3.v0.3.js\", function(){\n",
       "                 \n",
       "                 mpld3.draw_figure(\"fig_el71001399937948691764438350868\", {\"id\": \"el7100139993794869176\", \"width\": 432.0, \"axes\": [{\"bbox\": [0.125, 0.125, 0.775, 0.755], \"paths\": [], \"axes\": [{\"position\": \"bottom\", \"grid\": {\"gridOn\": false}, \"nticks\": 11, \"scale\": \"linear\", \"visible\": true, \"tickvalues\": null, \"fontsize\": 10.0, \"tickformat\": null}, {\"position\": \"left\", \"grid\": {\"gridOn\": false}, \"nticks\": 11, \"scale\": \"linear\", \"visible\": true, \"tickvalues\": null, \"fontsize\": 10.0, \"tickformat\": null}], \"sharex\": [], \"xdomain\": [0.9, 3.1], \"lines\": [{\"coordinates\": \"data\", \"xindex\": 0, \"id\": \"el7100139993390543480\", \"alpha\": 1, \"linewidth\": 1.5, \"dasharray\": \"none\", \"data\": \"data01\", \"zorder\": 2, \"yindex\": 1, \"color\": \"#FF0000\", \"drawstyle\": \"default\"}], \"ylim\": [0.9, 3.1], \"markers\": [], \"axesbg\": \"#FFFFFF\", \"yscale\": \"linear\", \"ydomain\": [0.9, 3.1], \"collections\": [], \"axesbgalpha\": null, \"images\": [], \"id\": \"el7100139993390545216\", \"sharey\": [], \"xscale\": \"linear\", \"texts\": [], \"zoomable\": true, \"xlim\": [0.9, 3.1]}], \"data\": {\"data01\": [[1.0, 1.0], [2.0, 2.0], [3.0, 3.0]]}, \"plugins\": [{\"type\": \"reset\"}, {\"enabled\": false, \"button\": true, \"type\": \"zoom\"}, {\"enabled\": false, \"button\": true, \"type\": \"boxzoom\"}], \"height\": 288.0});\n",
       "            })\n",
       "         });\n",
       "}\n",
       "</script>"
      ],
      "text/plain": [
       "<Figure size 432x288 with 1 Axes>"
      ]
     },
     "execution_count": 4,
     "metadata": {},
     "output_type": "execute_result"
    }
   ],
   "source": []
  },
  {
   "cell_type": "code",
   "execution_count": null,
   "metadata": {},
   "outputs": [],
   "source": []
  }
 ],
 "metadata": {
  "kernelspec": {
   "display_name": "Python 3",
   "language": "python",
   "name": "python3"
  },
  "language_info": {
   "codemirror_mode": {
    "name": "ipython",
    "version": 3
   },
   "file_extension": ".py",
   "mimetype": "text/x-python",
   "name": "python",
   "nbconvert_exporter": "python",
   "pygments_lexer": "ipython3",
   "version": "3.4.6"
  }
 },
 "nbformat": 4,
 "nbformat_minor": 2
}
