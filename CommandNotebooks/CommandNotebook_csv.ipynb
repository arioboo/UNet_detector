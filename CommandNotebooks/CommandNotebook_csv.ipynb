{
 "cells": [
  {
   "cell_type": "code",
   "execution_count": 1,
   "metadata": {},
   "outputs": [],
   "source": [
    "###---<CommandNotebook_csv.ipynb>---###\n",
    "%load_ext autoreload\n",
    "%autoreload 2\n"
   ]
  },
  {
   "cell_type": "code",
   "execution_count": 2,
   "metadata": {},
   "outputs": [],
   "source": [
    "    #-<general modules>-#\n",
    "import pandas as pd\n",
    "import numpy as np\n",
    "import os,sys\n",
    "import glob\n"
   ]
  },
  {
   "cell_type": "code",
   "execution_count": 3,
   "metadata": {},
   "outputs": [],
   "source": [
    "catlist_B = glob.glob(\"*F435W.csv\")\n",
    "catlist_V = glob.glob(\"*F606W.csv\")\n",
    "\n",
    "coded_filters={'v':'F606W','b':'F435W'}\n"
   ]
  },
  {
   "cell_type": "code",
   "execution_count": 4,
   "metadata": {},
   "outputs": [
    {
     "name": "stdout",
     "output_type": "stream",
     "text": [
      "['NUMBER', 'X_IMAGE', 'Y_IMAGE', 'A_IMAGE', 'B_IMAGE', 'THETA_IMAGE', 'XPEAK_IMAGE', 'YPEAK_IMAGE', 'gal_id', 'seg_index', 'a0', 'z', 'cam', 'instrument', 'filter', 'filename', 'prob_mean', 'prob_int', 'flux']\n"
     ]
    }
   ],
   "source": [
    "catprueba = pd.read_csv(\"sex_cat_VELA01_F435W.csv\",index_col=[0]) #take 1 example catalog\n",
    "cols = catprueba.columns.tolist()      ;print(cols)          #define columns\n",
    "#list(catprueba.columns)\n",
    "empty_df = pd.DataFrame(columns=cols)         #create an Empty DF with same columns as catprueba\n",
    "\n",
    "\n",
    "##NOTES##: Dataframe columns appears as sorted \"alphabetically\"(with same columns as catprueba,but not same order)"
   ]
  },
  {
   "cell_type": "code",
   "execution_count": 5,
   "metadata": {},
   "outputs": [
    {
     "name": "stdout",
     "output_type": "stream",
     "text": [
      "['filename', 'seg_index', 'NUMBER', 'a0', 'z', 'cam', 'filter', 'gal_id', 'prob_mean', 'prob_int', 'flux', 'X_IMAGE', 'Y_IMAGE', 'A_IMAGE', 'B_IMAGE', 'THETA_IMAGE', 'XPEAK_IMAGE', 'YPEAK_IMAGE', 'instrument']\n"
     ]
    }
   ],
   "source": [
    "cols=['filename',       #cols order (reorder manually)\n",
    " 'seg_index',\n",
    " 'NUMBER',\n",
    " 'a0',\n",
    " 'z', \n",
    " 'cam',\n",
    " 'filter',\n",
    " 'gal_id',\n",
    " 'prob_mean',\n",
    " 'prob_int',\n",
    " 'flux',\n",
    " 'X_IMAGE',\n",
    " 'Y_IMAGE',\n",
    " 'A_IMAGE',\n",
    " 'B_IMAGE',\n",
    " 'THETA_IMAGE',\n",
    " 'XPEAK_IMAGE',\n",
    " 'YPEAK_IMAGE',\n",
    " 'instrument']\n",
    "print(cols)"
   ]
  },
  {
   "cell_type": "code",
   "execution_count": 6,
   "metadata": {},
   "outputs": [],
   "source": [
    "#cols\n",
    "def append_filter_catalogs(filtro,if_save=True):\n",
    "    list = glob.glob(\"sex_cat_*\"+ coded_filters[filtro] + \".csv\")\n",
    "    sum_fields=0\n",
    "    \n",
    "    \n",
    "    newDF = pd.DataFrame(columns=cols)\n",
    "    for csv in list:\n",
    "        catdata = pd.read_csv(csv,usecols=cols)[cols]   #usecols throw the same columns as catprueba columns #[cols] use same order\n",
    "        newDF = newDF.append(catdata,ignore_index=True) #,verify_integrity=False\n",
    "        \n",
    "        sum_fields += len(catdata)\n",
    "    print('len:',sum_fields)\n",
    "    if if_save:                       newDF.to_csv(\"Gcat_\"+coded_filters[filtro]+\".csv\") \n",
    "    return newDF\n"
   ]
  },
  {
   "cell_type": "code",
   "execution_count": 7,
   "metadata": {},
   "outputs": [],
   "source": [
    "def init_df(df):\n",
    "    try:    del(df) \n",
    "    except: pass\n",
    "    return\n"
   ]
  },
  {
   "cell_type": "code",
   "execution_count": 8,
   "metadata": {},
   "outputs": [
    {
     "name": "stdout",
     "output_type": "stream",
     "text": [
      "len: 60243\n"
     ]
    }
   ],
   "source": [
    "try:    init_df(B_DF)\n",
    "except: pass\n",
    "B_DF = append_filter_catalogs('b')   #'b','v'"
   ]
  },
  {
   "cell_type": "code",
   "execution_count": 9,
   "metadata": {},
   "outputs": [
    {
     "name": "stdout",
     "output_type": "stream",
     "text": [
      "len: 94988\n"
     ]
    }
   ],
   "source": [
    "try:   init_df(V_DF)\n",
    "except: pass\n",
    "V_DF = append_filter_catalogs('v')   #'b','v'"
   ]
  },
  {
   "cell_type": "markdown",
   "metadata": {},
   "source": [
    "print(len(B_DF),len(V_DF))   # 60243 94988    #OK  "
   ]
  },
  {
   "cell_type": "code",
   "execution_count": 10,
   "metadata": {},
   "outputs": [],
   "source": [
    "def concat_filter_catalogs(catalog1,catalog2):\n",
    "    DF = pd.merge(catalog1, catalog2 )\n",
    "    return DF"
   ]
  },
  {
   "cell_type": "code",
   "execution_count": 38,
   "metadata": {},
   "outputs": [],
   "source": [
    "try:    init_df(Giant_DF)\n",
    "except: pass\n",
    "\n",
    "Giant_DF = B_DF.append(V_DF,ignore_index=True) #,verify_integrity=False\n",
    "\n",
    "Giant_DF.to_csv(\"Gcat.csv\")\n",
    "Giant_DF.to_csv(\"Gcat.bz2\",compression=\"bz2\")\n",
    "Giant_DF.to_csv(\"Gcat.gz\",compression=\"gzip\")"
   ]
  },
  {
   "cell_type": "code",
   "execution_count": 30,
   "metadata": {},
   "outputs": [
    {
     "data": {
      "text/plain": [
       "[0.1,\n",
       " 0.11,\n",
       " 0.12,\n",
       " 0.13,\n",
       " 0.14,\n",
       " 0.15,\n",
       " 0.16,\n",
       " 0.17,\n",
       " 0.18,\n",
       " 0.19,\n",
       " 0.2,\n",
       " 0.21,\n",
       " 0.22,\n",
       " 0.23,\n",
       " 0.24,\n",
       " 0.25,\n",
       " 0.26,\n",
       " 0.27,\n",
       " 0.28,\n",
       " 0.29,\n",
       " 0.3,\n",
       " 0.31,\n",
       " 0.32,\n",
       " 0.33,\n",
       " 0.34,\n",
       " 0.35,\n",
       " 0.36,\n",
       " 0.37,\n",
       " 0.38,\n",
       " 0.39,\n",
       " 0.4,\n",
       " 0.41,\n",
       " 0.42,\n",
       " 0.43,\n",
       " 0.44,\n",
       " 0.45,\n",
       " 0.46,\n",
       " 0.47,\n",
       " 0.48,\n",
       " 0.49,\n",
       " 0.5,\n",
       " 0.51,\n",
       " 0.52,\n",
       " 0.53,\n",
       " 0.54,\n",
       " 0.55,\n",
       " 0.56]"
      ]
     },
     "execution_count": 30,
     "metadata": {},
     "output_type": "execute_result"
    }
   ],
   "source": [
    "Giant_DF['filter'].unique()      # PROOF                              \n",
    "sorted(Giant_DF['a0'].unique())  # cuidado ; hay un a0 > 0.5 (z=1), limite high-z\n",
    "# print(len(Giant_DF) == len(B_DF)+len(V_DF))"
   ]
  },
  {
   "cell_type": "code",
   "execution_count": 25,
   "metadata": {},
   "outputs": [
    {
     "data": {
      "text/plain": [
       "True"
      ]
     },
     "execution_count": 25,
     "metadata": {},
     "output_type": "execute_result"
    }
   ],
   "source": []
  },
  {
   "cell_type": "code",
   "execution_count": null,
   "metadata": {},
   "outputs": [],
   "source": []
  }
 ],
 "metadata": {
  "kernelspec": {
   "display_name": "Python 3",
   "language": "python",
   "name": "python3"
  },
  "language_info": {
   "codemirror_mode": {
    "name": "ipython",
    "version": 3
   },
   "file_extension": ".py",
   "mimetype": "text/x-python",
   "name": "python",
   "nbconvert_exporter": "python",
   "pygments_lexer": "ipython3",
   "version": "3.4.6"
  }
 },
 "nbformat": 4,
 "nbformat_minor": 2
}
