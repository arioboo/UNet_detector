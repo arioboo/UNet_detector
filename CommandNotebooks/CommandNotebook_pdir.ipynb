{
 "cells": [
  {
   "cell_type": "code",
   "execution_count": null,
   "metadata": {},
   "outputs": [],
   "source": [
    "###-------------<COMMAND NOTEBOOK parent_directory>----------------###"
   ]
  },
  {
   "cell_type": "code",
   "execution_count": 4,
   "metadata": {},
   "outputs": [],
   "source": [
    "#-<general modules>-#\n",
    "import numpy as np\n",
    "import matplotlib.pylab as pl\n",
    "import glob \n",
    "import os , sys\n",
    "\n",
    "#-<other modules>-#\n",
    "\n",
    "#-<custom modules>-#\n"
   ]
  },
  {
   "cell_type": "code",
   "execution_count": 5,
   "metadata": {},
   "outputs": [
    {
     "name": "stdout",
     "output_type": "stream",
     "text": [
      "['VELA28', 'VELA31', 'VELA01', 'VELA12', 'VELA32', 'VELA21', 'VELA11', 'VELA15', 'VELA19', 'VELA35', 'VELA14', 'VELA33', 'VELA30', 'VELA17', 'VELA22', 'VELA27', 'VELA09', 'VELA07', 'VELA20', 'VELA05', 'VELA10', 'VELA34', 'VELA02', 'VELA26', 'VELA04', 'VELA16', 'VELA25', 'VELA06', 'VELA08', 'VELA03', 'VELA13']\n",
      "num_theo_total_VELA:35    ||total_VELA:31\n"
     ]
    }
   ],
   "source": [
    "num_theo_total_VELA = 35\n",
    "\n",
    "VELA_folderlist = glob.glob(\"VELA*\")  ;print(VELA_folderlist)\n",
    "total_VELA = len(VELA_folderlist)     ;print(\"num_theo_total_VELA:%s    ||total_VELA:%s\" %(num_theo_total_VELA,total_VELA)) \n",
    "# in total, 31 folders  (missing \"VELA18\",\"VELA23-24\",\"VELA29\")\n",
    "\n",
    "#coded_filters = {'v':'606','b':'435'}\n"
   ]
  },
  {
   "cell_type": "code",
   "execution_count": 11,
   "metadata": {},
   "outputs": [
    {
     "name": "stdout",
     "output_type": "stream",
     "text": [
      "\n",
      "\n"
     ]
    }
   ],
   "source": [
    "###---<statistics -> zstats.txt>---###\n",
    "filename_stats = \"zstats.txt\"\n",
    "stats_file = open(filename_stats,'w')                    # w overwrite all (creates a file if needs to), a 'append' things\n",
    "\n",
    "sum_b = sum_v = 0\n",
    "sum_cam_b = sum_cam_v = 0\n",
    "print(\"###---<zstats.txt>---###\\n\",file= stats_file)\n",
    "print(\"\\n\")\n",
    "for gal in VELA_folderlist:                                 #Usamos 'b' y 'v' (filtros)\n",
    "    list_v = glob.glob(gal + \"/\" + gal + \"*F606W*\" + \"_SB00.fits\") ; length_v = len(list_v) ; sum_v += length_v   \n",
    "    list_b = glob.glob(gal + \"/\" + gal + \"*F435W*\" + \"_SB00.fits\") ; length_b = len(list_b) ; sum_b += length_b\n",
    "      \n",
    "    print(gal , file = stats_file)\n",
    "    print(\"length_v:%s  || length_b:%s\\n\"%(length_v,length_b)  , file = stats_file )\n",
    "    for numm in range(0,19):\n",
    "        #print('%2s'%numm)\n",
    "        list_cam_v = glob.glob(gal + \"/\" + gal + \"*F606W*\"+\"_SB00.fits\") ; sum_cam_v += len(list_cam_v)\n",
    "        list_cam_b = glob.glob(gal + \"/\" + gal + \"*F435W*\"+\"_SB00.fits\") ; sum_cam_b += len(list_cam_b) \n",
    "\n",
    "        \n",
    "        \n",
    "print(\"----------------------------------------------------\", file = stats_file)\n",
    "mean_v,mean_b = np.array([sum_v,sum_b])/total_VELA\n",
    "print(\"mean_v:%.5s  || mean_b:%.5s\"%(mean_v,mean_b) , file = stats_file)\n",
    "\n",
    "stats_file.close()"
   ]
  }
 ],
 "metadata": {
  "kernelspec": {
   "display_name": "Python 3",
   "language": "python",
   "name": "python3"
  },
  "language_info": {
   "codemirror_mode": {
    "name": "ipython",
    "version": 3
   },
   "file_extension": ".py",
   "mimetype": "text/x-python",
   "name": "python",
   "nbconvert_exporter": "python",
   "pygments_lexer": "ipython3",
   "version": "3.8.5"
  }
 },
 "nbformat": 4,
 "nbformat_minor": 4
}
