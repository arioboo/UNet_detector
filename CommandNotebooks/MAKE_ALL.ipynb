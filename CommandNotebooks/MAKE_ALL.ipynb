{
 "cells": [
  {
   "cell_type": "code",
   "execution_count": 2,
   "metadata": {},
   "outputs": [],
   "source": [
    "###---------<MAKE_ALL.ipynb>------------###  # Correr por partes , hay una version \"MAKE_ALL.py\" {VELA_id} {filtro}\n",
    "%load_ext autoreload\n",
    "%autoreload 2\n",
    "#from params.data_params import *          #modify data_params.py before runb\n",
    "#%reload_ext autoreload\n",
    "#%run params/data_params.py 07 \n",
    "import pdb"
   ]
  },
  {
   "cell_type": "code",
   "execution_count": 3,
   "metadata": {},
   "outputs": [
    {
     "name": "stdout",
     "output_type": "stream",
     "text": [
      "real_HSTlike_noise: False\n",
      "(VELA_id,filtro) taken from command input.\n",
      "--------------------------------------------------------\n",
      "VELA_id: 07   || filtro: v\n",
      "--------------------------------------------------------\n",
      "parent_dir:   /notebooks/CLUMPS_VELA\n",
      "python_dir:   /notebooks/CLUMPS_VELA/python_work\n",
      "sex_dir:      /notebooks/CLUMPS_VELA/sextractor_work\n",
      "noise_dir: /notebooks/CLUMPS_VELA/noise_stamps\n",
      "models_dir:   /notebooks/CLUMPS_VELA/models\n",
      "\n",
      "\n",
      "VELA_list:    ['VELA01', 'VELA02', 'VELA03', 'VELA04', 'VELA05', 'VELA06', 'VELA07', 'VELA08', 'VELA09', 'VELA10', 'VELA11', 'VELA12', 'VELA13', 'VELA14', 'VELA15', 'VELA16', 'VELA17', 'VELA19', 'VELA20', 'VELA21', 'VELA22', 'VELA25', 'VELA26', 'VELA27', 'VELA28', 'VELA30', 'VELA31', 'VELA32', 'VELA33', 'VELA34', 'VELA35']\n",
      "absVELA_list: ['/notebooks/CLUMPS_VELA/VELA01', '/notebooks/CLUMPS_VELA/VELA02', '/notebooks/CLUMPS_VELA/VELA03', '/notebooks/CLUMPS_VELA/VELA04', '/notebooks/CLUMPS_VELA/VELA05', '/notebooks/CLUMPS_VELA/VELA06', '/notebooks/CLUMPS_VELA/VELA07', '/notebooks/CLUMPS_VELA/VELA08', '/notebooks/CLUMPS_VELA/VELA09', '/notebooks/CLUMPS_VELA/VELA10', '/notebooks/CLUMPS_VELA/VELA11', '/notebooks/CLUMPS_VELA/VELA12', '/notebooks/CLUMPS_VELA/VELA13', '/notebooks/CLUMPS_VELA/VELA14', '/notebooks/CLUMPS_VELA/VELA15', '/notebooks/CLUMPS_VELA/VELA16', '/notebooks/CLUMPS_VELA/VELA17', '/notebooks/CLUMPS_VELA/VELA19', '/notebooks/CLUMPS_VELA/VELA20', '/notebooks/CLUMPS_VELA/VELA21', '/notebooks/CLUMPS_VELA/VELA22', '/notebooks/CLUMPS_VELA/VELA25', '/notebooks/CLUMPS_VELA/VELA26', '/notebooks/CLUMPS_VELA/VELA27', '/notebooks/CLUMPS_VELA/VELA28', '/notebooks/CLUMPS_VELA/VELA30', '/notebooks/CLUMPS_VELA/VELA31', '/notebooks/CLUMPS_VELA/VELA32', '/notebooks/CLUMPS_VELA/VELA33', '/notebooks/CLUMPS_VELA/VELA34', '/notebooks/CLUMPS_VELA/VELA35']\n",
      "ID_list:      ['01', '02', '03', '04', '05', '06', '07', '08', '09', '10', '11', '12', '13', '14', '15', '16', '17', '19', '20', '21', '22', '25', '26', '27', '28', '30', '31', '32', '33', '34', '35']\n",
      "\n",
      "\n",
      "coded_filters:    {'f160': 'F160W', 'b': 'F435W', 'v': 'F606W', 'i': 'F775W'}\n",
      "\n",
      "\n",
      "img_folder:    /notebooks/CLUMPS_VELA/python_work/DATA/VELA07_F606W\n",
      "output_folder: /notebooks/CLUMPS_VELA/python_work/DATA_outputs/VELA07_F606W\n",
      "model_name_dict: {'f160': 'unet_12_21_18-f160', 'b': 'unet_12_21_18-b', 'v': 'unet_12_21_18-v', 'i': 'unet_12_21_18-i'}\n",
      "model_name:      unet_12_21_18-v\n",
      "----\n",
      "batch_size: 4\n",
      "epochs:     100\n",
      "verbose:    1\n",
      "img_size:   128\n",
      "max_n:      48000\n",
      "ntrain:     43200\n",
      "nval:       4800\n",
      "----\n",
      "sex_output_folder: /notebooks/CLUMPS_VELA/sextractor_work/fits_output\n",
      "catalogs_folder:   /notebooks/CLUMPS_VELA/sextractor_work/sex_catalogs\n",
      "csv_folder:        /notebooks/CLUMPS_VELA/sextractor_work/sex_catalogs/csv\n",
      "path_sexparams: /notebooks/CLUMPS_VELA/sextractor_work/clumps.sex\n",
      "run_name_abs:/notebooks/CLUMPS_VELA/sextractor_work/fits_output/VELA07_F606W         ||run_name:VELA07_F606W\n",
      "cols: ['NUMBER', 'X_IMAGE', 'Y_IMAGE', 'A_IMAGE', 'B_IMAGE', 'THETA_IMAGE', 'XPEAK_IMAGE', 'YPEAK_IMAGE']\n",
      "cmd: sextractor -c /notebooks/CLUMPS_VELA/sextractor_work/clumps.sex %s -CHECKIMAGE_NAME %s -CATALOG_NAME %s\n",
      "###---<End_of_PRINT-PARAMERS>---###\n",
      "\n",
      "\n",
      "###---<START of prepare.py>---###\n",
      "Statting folder: /notebooks/CLUMPS_VELA/python_work/DATA/VELA07_F606W\n",
      "str_noiseim1_flat: /notebooks/CLUMPS_VELA/noise_stamps/bk_v_1.fits\n",
      "str_noiseim2_flat: /notebooks/CLUMPS_VELA/noise_stamps/bk_v_2.fits\n",
      "linear_comb: True\n"
     ]
    },
    {
     "name": "stderr",
     "output_type": "stream",
     "text": [
      "/usr/local/lib/python3.4/site-packages/scipy/ndimage/interpolation.py:616: UserWarning: From scipy 0.13.0, the output shape of zoom() is calculated with round() instead of int() - for these inputs the size of the returned array has changed.\n",
      "  \"the returned array has changed.\", UserWarning)\n"
     ]
    },
    {
     "name": "stdout",
     "output_type": "stream",
     "text": [
      "tiempo_stamps_flats: 40.832637786865234\n",
      "###---<END of prepare.py>---###\n",
      "###---<START of unet_me.py>---###\n",
      "Statting folder: /notebooks/CLUMPS_VELA/python_work/DATA_outputs/VELA07_F606W\n",
      "Reading input data...\n",
      "Reading in 646 fits files...\n",
      "0.0.1.0.2.0.3.0.4.0.5.0.6.0.7.0.8.0.9.0.10.0.11.0.12.0.13.0.14.0.15.0.16.0.17.0.18.0.19.0.20.0.21.0.22.0.23.0.24.0.25.0.26.0.27.0.28.0.29.0.30.0.31.0.32.0.33.0.34.0.35.0.36.0.37.0.38.0.39.0.40.0.41.0.42.0.43.0.44.0.45.0.46.0.47.0.48.0.49.0.50.0.51.0.52.0.53.0.54.0.55.0.56.0.57.0.58.0.59.0.60.0.61.0.62.0.63.0.64.0.65.0.66.0.67.0.68.0.69.0.70.0.71.0.72.0.73.0.74.0.75.0.76.0.77.0.78.0.79.0.80.0.81.0.82.0.83.0.84.0.85.0.86.0.87.0.88.0.89.0.90.0.91.0.92.0.Loading images..\n",
      "imgs.shape[0]= 646\n",
      "done.\n",
      "Checking model predictions...\n",
      "done.\n",
      "Saving test results...\n",
      "done.\n",
      "###---<END of unet_me.py>---###\n",
      "###---<START of create_sex_catalog2.py>---###\n",
      "Statting folder: /notebooks/CLUMPS_VELA/sextractor_work/fits_output/VELA07_F606W\n",
      "Links were already created\n",
      "Running SExtractor on dir: VELA07_F606W\n",
      "0.0%1.0%2.0%3.0%4.0%5.0%6.0%7.0%8.0%9.0%10.0%11.0%12.0%13.0%14.0%15.0%16.0%17.0%18.0%19.0%20.0%21.0%22.0%23.0%24.0%25.0%26.0%27.0%28.0%29.0%30.0%31.0%32.0%33.0%34.0%35.0%36.0%37.0%38.0%39.0%40.0%41.0%42.0%43.0%44.0%45.0%46.0%47.0%48.0%49.0%50.0%51.0%52.0%53.0%54.0%55.0%56.0%57.0%58.0%59.0%60.0%61.0%62.0%63.0%64.0%65.0%66.0%67.0%68.0%69.0%70.0%71.0%72.0%73.0%74.0%75.0%76.0%77.0%78.0%79.0%80.0%81.0%82.0%83.0%84.0%85.0%86.0%87.0%88.0%89.0%90.0%91.0%92.0%93.0%94.0%95.0%96.0%97.0%98.0%99.0%100.0%101.0%102.0%103.0%104.0%105.0%106.0%107.0%Done!\n",
      "###---<END of create_sex_catalog2.py>---###\n"
     ]
    }
   ],
   "source": [
    "###---<SINGLE RUN>---###  #con %run \n",
    "idn = '07'\n",
    "fil = 'v'\n",
    "\n",
    "if_prepare,if_unet_me,if_create_sex_catalog2 = (1,1,1)   #1 or 0\n",
    "\n",
    "\n",
    "if if_prepare:                    #Step1\n",
    "    %run \"prepare.py\" {idn} {fil} \n",
    "    #pdb.set_trace()                       #use \"pdb.set_trace()\" to ask for variables, \"continue\" to follow up\n",
    "if if_unet_me:                    #Step2\n",
    "    %run \"unet_me.py\" {idn} {fil} \n",
    "if if_create_sex_catalog2:        #Step3\n",
    "    %run \"../sextractor_work/create_sex_catalog2.py\" {idn} {fil} \n",
    "###---</SINGLE RUN>---###"
   ]
  },
  {
   "cell_type": "code",
   "execution_count": null,
   "metadata": {},
   "outputs": [],
   "source": []
  },
  {
   "cell_type": "code",
   "execution_count": 1,
   "metadata": {},
   "outputs": [
    {
     "ename": "KeyError",
     "evalue": "'/root/.local/share/jupyter/runtime/kernel-ca2f825d-43a1-47b6-8488-28fd46a2de12.json'",
     "output_type": "error",
     "traceback": [
      "\u001b[0;31m\u001b[0m",
      "\u001b[0;31mKeyError\u001b[0mTraceback (most recent call last)",
      "\u001b[0;32m<ipython-input-1-ccb0ce0968a9>\u001b[0m in \u001b[0;36m<module>\u001b[0;34m()\u001b[0m\n\u001b[0;32m----> 1\u001b[0;31m \u001b[0;32mfrom\u001b[0m \u001b[0mparams\u001b[0m\u001b[0;34m.\u001b[0m\u001b[0mdata_params\u001b[0m \u001b[0;32mimport\u001b[0m \u001b[0;34m*\u001b[0m\u001b[0;34m\u001b[0m\u001b[0m\n\u001b[0m\u001b[1;32m      2\u001b[0m \u001b[0;32mimport\u001b[0m \u001b[0msys\u001b[0m\u001b[0;34m,\u001b[0m\u001b[0mos\u001b[0m\u001b[0;34m\u001b[0m\u001b[0m\n\u001b[1;32m      3\u001b[0m \u001b[0;32mimport\u001b[0m \u001b[0mpdb\u001b[0m\u001b[0;34m\u001b[0m\u001b[0m\n\u001b[1;32m      4\u001b[0m \u001b[0;32mimport\u001b[0m \u001b[0msubprocess\u001b[0m\u001b[0;34m\u001b[0m\u001b[0m\n\u001b[1;32m      5\u001b[0m \u001b[0;31m###---<LARGE RUN!>---###\u001b[0m\u001b[0;34m\u001b[0m\u001b[0;34m\u001b[0m\u001b[0m\n",
      "\u001b[0;32m/notebooks/CLUMPS_VELA/python_work/params/data_params.py\u001b[0m in \u001b[0;36m<module>\u001b[0;34m()\u001b[0m\n\u001b[1;32m     22\u001b[0m \u001b[0;34m\u001b[0m\u001b[0m\n\u001b[1;32m     23\u001b[0m \u001b[0mcoded_filters\u001b[0m \u001b[0;34m=\u001b[0m \u001b[0;34m{\u001b[0m\u001b[0;34m'f160'\u001b[0m\u001b[0;34m:\u001b[0m\u001b[0;34m'F160W'\u001b[0m\u001b[0;34m,\u001b[0m\u001b[0;34m'i'\u001b[0m\u001b[0;34m:\u001b[0m\u001b[0;34m'F775W'\u001b[0m\u001b[0;34m,\u001b[0m\u001b[0;34m'v'\u001b[0m\u001b[0;34m:\u001b[0m\u001b[0;34m'F606W'\u001b[0m\u001b[0;34m,\u001b[0m\u001b[0;34m'b'\u001b[0m\u001b[0;34m:\u001b[0m\u001b[0;34m'F435W'\u001b[0m \u001b[0;34m}\u001b[0m   \u001b[0;31m# BOSS _dict (in nm ,but 'f160')\u001b[0m\u001b[0;34m\u001b[0m\u001b[0m\n\u001b[0;32m---> 24\u001b[0;31m \u001b[0mGAL_folder\u001b[0m    \u001b[0;34m=\u001b[0m \u001b[0;34m\"VELA\"\u001b[0m \u001b[0;34m+\u001b[0m \u001b[0mVELA_id\u001b[0m \u001b[0;34m+\u001b[0m \u001b[0;34m\"_\"\u001b[0m \u001b[0;34m+\u001b[0m \u001b[0mcoded_filters\u001b[0m\u001b[0;34m[\u001b[0m\u001b[0mfiltro\u001b[0m\u001b[0;34m]\u001b[0m\u001b[0;34m\u001b[0m\u001b[0m\n\u001b[0m\u001b[1;32m     25\u001b[0m \u001b[0minstrument\u001b[0m \u001b[0;34m=\u001b[0m \u001b[0;34m\"ACS\"\u001b[0m \u001b[0;32mif\u001b[0m \u001b[0mfiltro\u001b[0m \u001b[0;34m!=\u001b[0m \u001b[0;34m'f160'\u001b[0m \u001b[0;32melse\u001b[0m \u001b[0;34m\"WFC3\"\u001b[0m\u001b[0;34m\u001b[0m\u001b[0m\n\u001b[1;32m     26\u001b[0m \u001b[0;34m\u001b[0m\u001b[0m\n",
      "\u001b[0;31mKeyError\u001b[0m: '/root/.local/share/jupyter/runtime/kernel-ca2f825d-43a1-47b6-8488-28fd46a2de12.json'"
     ]
    }
   ],
   "source": [
    "from params.data_params import *\n",
    "import sys,os\n",
    "import pdb\n",
    "import subprocess\n",
    "###---<LARGE RUN!>---###\n",
    "import time "
   ]
  },
  {
   "cell_type": "code",
   "execution_count": 1,
   "metadata": {},
   "outputs": [],
   "source": [
    "#-<auxiliar make_command function>\n",
    "def make_command(string_command,ID,fil,if_ierr=False,if_debug=False):\n",
    "    subp = subprocess.Popen(string_command % (ID,fil), shell=True, stdout=subprocess.PIPE, stderr=subprocess.PIPE)  #Parse strings\n",
    "    exit_code = subp.wait()       #Wait command to complete\n",
    "    if if_ierr:                stdout, stderr = subp.communicate()  #stdout,stderr of the subprocess\n",
    "    if if_debug:               pdb.set_trace()\n",
    "    return "
   ]
  },
  {
   "cell_type": "code",
   "execution_count": 2,
   "metadata": {},
   "outputs": [],
   "source": [
    "#-<pre-setup>-#\n",
    "\n",
    "if_prepare,if_unet_me,if_create_sex_catalog2 = (0,1,0)   #1 or 0  #<MAY CHANGE> (careful!)\n",
    "fil_list=['b','v']                                       #'b','v' #<MAY CHANGE> (careful!)\n",
    "\n",
    "#Python strings to run code from path: 'python_work'(cwd),'sextractor_work'\n",
    "cmd_prepare = \"python prepare.py %s %s\"\n",
    "cmd_unet    = \"python unet_me.py %s %s\"\n",
    "cmd_sexcat  = \"python ../sextractor_work/create_sex_catalog2.py %s %s\"\n",
    "one_ID=['04']   #<BORRAR>\n"
   ]
  },
  {
   "cell_type": "code",
   "execution_count": null,
   "metadata": {},
   "outputs": [],
   "source": [
    "###---<LARGE RUN!>---###\n",
    "time_start = time.time()\n",
    "for ID in one_ID:                         #ID_list\n",
    "    for fil in fil_list:                  #['b','v'] #coded_filters.keys()\n",
    "        if if_prepare:                                   #25' mixed ,#\n",
    "            make_command(cmd_prepare,ID,fil)\n",
    "        if if_unet_me: \n",
    "            make_command(cmd_unet,ID,fil)\n",
    "        if if_create_sex_catalog2: \n",
    "            make_command(cmd_sexcat,ID,fil)\n",
    "time_end = time.time()\n",
    "print(\"\\n\\nTOTAL_TIME:\",time_end-time_start)"
   ]
  },
  {
   "cell_type": "code",
   "execution_count": 3,
   "metadata": {},
   "outputs": [],
   "source": [
    "###---------------<END MAKE_ALL.py>----------------###"
   ]
  },
  {
   "cell_type": "code",
   "execution_count": null,
   "metadata": {},
   "outputs": [],
   "source": []
  }
 ],
 "metadata": {
  "kernelspec": {
   "display_name": "Python 3",
   "language": "python",
   "name": "python3"
  },
  "language_info": {
   "codemirror_mode": {
    "name": "ipython",
    "version": 3
   },
   "file_extension": ".py",
   "mimetype": "text/x-python",
   "name": "python",
   "nbconvert_exporter": "python",
   "pygments_lexer": "ipython3",
   "version": "3.4.6"
  }
 },
 "nbformat": 4,
 "nbformat_minor": 2
}
