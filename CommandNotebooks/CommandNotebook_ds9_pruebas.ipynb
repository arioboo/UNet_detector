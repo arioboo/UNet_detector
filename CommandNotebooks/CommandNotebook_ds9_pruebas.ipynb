{
 "cells": [
  {
   "cell_type": "code",
   "execution_count": 1,
   "metadata": {},
   "outputs": [],
   "source": [
    "###---<COMMAND NOTEBOOK>---###\n",
    "import subprocess"
   ]
  },
  {
   "cell_type": "code",
   "execution_count": 2,
   "metadata": {},
   "outputs": [],
   "source": [
    "velaid = \"05\"\n",
    "filt   = \"b\""
   ]
  },
  {
   "cell_type": "code",
   "execution_count": 3,
   "metadata": {},
   "outputs": [
    {
     "name": "stdout",
     "output_type": "stream",
     "text": [
      "VELA_id: VELA05\n",
      "filtro: b\n",
      "Folder name already exists\n",
      "/notebooks/CLUMPS_VELA/python_work/DATA/VELA05_F435W\n",
      "/notebooks/CLUMPS_VELA/python_work/DATA_outputs/VELA05_F435W\n",
      "Linking fits ...\n",
      "VELA05_a0.260_sunrise_cam03_ACS-F435W_SB00.fits\n",
      "VELA05_a0.260_sunrise_cam03_ACS-F435W_SB00-pred.fits\n",
      "done.\n"
     ]
    }
   ],
   "source": [
    "\n",
    "%run link_imgpred.py {velaid} {filt}        #it works with a randomized number"
   ]
  },
  {
   "cell_type": "code",
   "execution_count": 4,
   "metadata": {},
   "outputs": [
    {
     "name": "stdout",
     "output_type": "stream",
     "text": [
      "VELA_id: VELA05\n",
      "filtro: b\n",
      "Folder name already exists\n",
      "/notebooks/CLUMPS_VELA/python_work/DATA/VELA05_F435W\n",
      "/notebooks/CLUMPS_VELA/python_work/DATA_outputs/VELA05_F435W\n",
      "Linking fits ...\n",
      "VELA05_a0.350_sunrise_cam17_ACS-F435W_SB00.fits\n",
      "VELA05_a0.350_sunrise_cam17_ACS-F435W_SB00-pred.fits\n",
      "done.\n",
      "VELA_id: VELA05\n",
      "filtro: b\n",
      "Folder name already exists\n",
      "/notebooks/CLUMPS_VELA/python_work/DATA/VELA05_F435W\n",
      "/notebooks/CLUMPS_VELA/python_work/DATA_outputs/VELA05_F435W\n",
      "Linking fits ...\n",
      "VELA05_a0.470_sunrise_cam14_ACS-F435W_SB00.fits\n",
      "VELA05_a0.470_sunrise_cam14_ACS-F435W_SB00-pred.fits\n",
      "done.\n",
      "VELA_id: VELA05\n",
      "filtro: b\n",
      "Folder name already exists\n",
      "/notebooks/CLUMPS_VELA/python_work/DATA/VELA05_F435W\n",
      "/notebooks/CLUMPS_VELA/python_work/DATA_outputs/VELA05_F435W\n",
      "Linking fits ...\n",
      "VELA05_a0.470_sunrise_cam00_ACS-F435W_SB00.fits\n",
      "VELA05_a0.470_sunrise_cam00_ACS-F435W_SB00-pred.fits\n",
      "done.\n",
      "VELA_id: VELA05\n",
      "filtro: b\n",
      "Folder name already exists\n",
      "/notebooks/CLUMPS_VELA/python_work/DATA/VELA05_F435W\n",
      "/notebooks/CLUMPS_VELA/python_work/DATA_outputs/VELA05_F435W\n",
      "Linking fits ...\n",
      "VELA05_a0.300_sunrise_cam16_ACS-F435W_SB00.fits\n",
      "VELA05_a0.300_sunrise_cam16_ACS-F435W_SB00-pred.fits\n",
      "done.\n",
      "VELA_id: VELA05\n",
      "filtro: b\n",
      "Folder name already exists\n",
      "/notebooks/CLUMPS_VELA/python_work/DATA/VELA05_F435W\n",
      "/notebooks/CLUMPS_VELA/python_work/DATA_outputs/VELA05_F435W\n",
      "Linking fits ...\n",
      "VELA05_a0.430_sunrise_cam01_ACS-F435W_SB00.fits\n",
      "VELA05_a0.430_sunrise_cam01_ACS-F435W_SB00-pred.fits\n",
      "done.\n",
      "VELA_id: VELA05\n",
      "filtro: b\n",
      "Folder name already exists\n",
      "/notebooks/CLUMPS_VELA/python_work/DATA/VELA05_F435W\n",
      "/notebooks/CLUMPS_VELA/python_work/DATA_outputs/VELA05_F435W\n",
      "Linking fits ...\n",
      "VELA05_a0.460_sunrise_cam11_ACS-F435W_SB00.fits\n",
      "VELA05_a0.460_sunrise_cam11_ACS-F435W_SB00-pred.fits\n",
      "done.\n"
     ]
    }
   ],
   "source": [
    "numero_random_links = 6\n",
    "for i in range(0,numero_random_links):    # 5 different images\n",
    "    %run link_imgpred.py {velaid} {filt}\n",
    "    \n",
    "    "
   ]
  },
  {
   "cell_type": "code",
   "execution_count": null,
   "metadata": {},
   "outputs": [],
   "source": []
  },
  {
   "cell_type": "code",
   "execution_count": 9,
   "metadata": {},
   "outputs": [
    {
     "name": "stdout",
     "output_type": "stream",
     "text": [
      "primero:  4\n",
      "segundo:  222\n"
     ]
    }
   ],
   "source": [
    "primero = 1*4\n",
    "segundo = \"2\"*3\n",
    "%run pruebatonta.py {primero} {segundo}"
   ]
  },
  {
   "cell_type": "code",
   "execution_count": null,
   "metadata": {},
   "outputs": [],
   "source": []
  },
  {
   "cell_type": "code",
   "execution_count": null,
   "metadata": {},
   "outputs": [],
   "source": [
    "###------------------<END CommandNotebook_ds9pruebas.py>------------------###"
   ]
  }
 ],
 "metadata": {
  "kernelspec": {
   "display_name": "Python 3",
   "language": "python",
   "name": "python3"
  },
  "language_info": {
   "codemirror_mode": {
    "name": "ipython",
    "version": 3
   },
   "file_extension": ".py",
   "mimetype": "text/x-python",
   "name": "python",
   "nbconvert_exporter": "python",
   "pygments_lexer": "ipython3",
   "version": "3.4.6"
  }
 },
 "nbformat": 4,
 "nbformat_minor": 2
}
