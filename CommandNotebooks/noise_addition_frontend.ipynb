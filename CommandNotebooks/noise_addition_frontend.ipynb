{
 "cells": [
  {
   "cell_type": "code",
   "execution_count": 113,
   "metadata": {},
   "outputs": [
    {
     "name": "stdout",
     "output_type": "stream",
     "text": [
      "The autoreload extension is already loaded. To reload it, use:\n",
      "  %reload_ext autoreload\n"
     ]
    }
   ],
   "source": [
    "###---<MAIN_FILE>---###      \n",
    "%load_ext autoreload\n",
    "%autoreload 2"
   ]
  },
  {
   "cell_type": "code",
   "execution_count": 114,
   "metadata": {},
   "outputs": [],
   "source": [
    "#-<this_file imports>-#\n",
    "import glob\n",
    "import numpy as np\n",
    "import os\n",
    "#-<others>-#\n",
    "import time\n",
    "import pdb\n",
    "#-<custom imports>-#\n",
    "from params.data_params import *         #<ME>\n",
    "import noise_addition_pipeline           #<OCODE>"
   ]
  },
  {
   "cell_type": "code",
   "execution_count": 115,
   "metadata": {},
   "outputs": [
    {
     "data": {
      "text/plain": [
       "['/notebooks/CLUMPS_VELA/noise_stamps/bk_v_2.fits',\n",
       " '/notebooks/CLUMPS_VELA/noise_stamps/bk_v_1.fits']"
      ]
     },
     "execution_count": 115,
     "metadata": {},
     "output_type": "execute_result"
    }
   ],
   "source": [
    "#print_parameters()\n",
    "noise_gen_dir\n",
    "list_of_candels_image"
   ]
  },
  {
   "cell_type": "code",
   "execution_count": 116,
   "metadata": {},
   "outputs": [
    {
     "data": {
      "text/plain": [
       "'\\n1. The VELA runs use the labels -- VELA01, VELA02, etc.\\n2. One can loop through all the VELA runs (01 through 34) in one go. However, i decided to do it one-by-one for double checking purposes.\\n'"
      ]
     },
     "execution_count": 116,
     "metadata": {},
     "output_type": "execute_result"
    }
   ],
   "source": [
    "''' \n",
    "1. Here, we query the list of real images provided by the user, which will be used to construct a real-noise mosaic.\n",
    "2. Please make sure to change the FULL PATH. Create a folder where you can put some real CANDELS images and refer that path here.\n",
    "'''\n",
    "#noise_gen_dir                          #<ME>\n",
    "#list_of_candels_image                  #<ME>\n",
    "'''\n",
    "1. The VELA runs use the labels -- VELA01, VELA02, etc.\n",
    "2. One can loop through all the VELA runs (01 through 34) in one go. However, i decided to do it one-by-one for double checking purposes.\n",
    "'''"
   ]
  },
  {
   "cell_type": "code",
   "execution_count": 117,
   "metadata": {},
   "outputs": [
    {
     "data": {
      "text/plain": [
       "'\\n# NOTE, NO leading slash at the end of the path...\\n# NOTE does not include the folder path to each specific folder...\\n# each SB00 folder generally follows VELAID_F160W_SB00/\\n# each folder has files named as *_*_*_cam*_WFC3-F160W_SB00.fits\\n# Change the file naming convention here in the code to whatever the user wishes to run it on..\\n# e.g., F125W for J-band... ACS for acs bands... etc..\\n'"
      ]
     },
     "execution_count": 117,
     "metadata": {},
     "output_type": "execute_result"
    }
   ],
   "source": [
    "################ SB00 (noise-less) images location ###################\n",
    "'''\n",
    "# NOTE, NO leading slash at the end of the path...\n",
    "# NOTE does not include the folder path to each specific folder...\n",
    "# each SB00 folder generally follows VELAID_F160W_SB00/\n",
    "# each folder has files named as *_*_*_cam*_WFC3-F160W_SB00.fits\n",
    "# Change the file naming convention here in the code to whatever the user wishes to run it on..\n",
    "# e.g., F125W for J-band... ACS for acs bands... etc..\n",
    "'''\n",
    "\n",
    "#sb00_loc                               "
   ]
  },
  {
   "cell_type": "code",
   "execution_count": 118,
   "metadata": {},
   "outputs": [],
   "source": [
    "############ Fits save file destination directory for noise-added images #############\n",
    "# NOTE, NO leading slash at the end of the path...\n",
    "\n",
    "#destin_dir                 # destin_dir = '/Users/km4n6/Desktop/temp/noise_added'\n"
   ]
  },
  {
   "cell_type": "code",
   "execution_count": 102,
   "metadata": {},
   "outputs": [],
   "source": [
    "################# Plot save location #################\n",
    "# plot_save_loc = '/Users/km4n6/Dropbox/bharath/Mantha Method/plots/CANDELS_Tidal_Feature_Identification/CAN_noise_stamp_generation'\n",
    "\n",
    "#plot_save_loc            # plot_save_loc = '/Users/km4n6/Desktop/temp/plots'\n",
    "try:\n",
    "  os.stat(plot_save_loc)\n",
    "except:\n",
    "  os.mkdir(plot_save_loc)\n",
    "#i.e. <ME> Podemos hacer una lista con los id de galaxias"
   ]
  },
  {
   "cell_type": "code",
   "execution_count": 122,
   "metadata": {},
   "outputs": [
    {
     "name": "stderr",
     "output_type": "stream",
     "text": [
      "/usr/local/lib/python3.4/site-packages/matplotlib/axes/_axes.py:6462: UserWarning: The 'normed' kwarg is deprecated, and has been replaced by the 'density' kwarg.\n",
      "  warnings.warn(\"The 'normed' kwarg is deprecated, and has been \"\n",
      "/usr/local/lib/python3.4/site-packages/astropy/visualization/mpl_normalize.py:117: RuntimeWarning: invalid value encountered in true_divide\n",
      "  np.true_divide(values, self.vmax - self.vmin, out=values)\n",
      "/usr/local/lib/python3.4/site-packages/matplotlib/colors.py:504: RuntimeWarning: invalid value encountered in less\n",
      "  xa[xa < 0] = -1\n"
     ]
    },
    {
     "name": "stdout",
     "output_type": "stream",
     "text": [
      "Added noise to VELA01_a0.130_sunrise_cam00_WFC3-F160W_SB00.fits\n",
      "--------\n",
      "\n",
      "Added noise to VELA01_a0.380_sunrise_cam00_WFC3-F160W_SB00.fits\n",
      "--------\n",
      "\n",
      "Added noise to VELA01_a0.230_sunrise_cam00_WFC3-F160W_SB00.fits\n",
      "--------\n",
      "\n",
      "Added noise to VELA01_a0.110_sunrise_cam00_WFC3-F160W_SB00.fits\n",
      "--------\n",
      "\n",
      "Added noise to VELA01_a0.410_sunrise_cam00_WFC3-F160W_SB00.fits\n",
      "--------\n",
      "\n",
      "Added noise to VELA01_a0.360_sunrise_cam00_WFC3-F160W_SB00.fits\n",
      "--------\n",
      "\n",
      "Added noise to VELA01_a0.440_sunrise_cam00_WFC3-F160W_SB00.fits\n",
      "--------\n",
      "\n",
      "Added noise to VELA01_a0.300_sunrise_cam00_WFC3-F160W_SB00.fits\n",
      "--------\n",
      "\n",
      "Added noise to VELA01_a0.290_sunrise_cam00_WFC3-F160W_SB00.fits\n",
      "--------\n",
      "\n",
      "Added noise to VELA01_a0.490_sunrise_cam00_WFC3-F160W_SB00.fits\n",
      "--------\n",
      "\n",
      "Added noise to VELA01_a0.060_sunrise_cam00_WFC3-F160W_SB00.fits\n",
      "--------\n",
      "\n",
      "Added noise to VELA01_a0.190_sunrise_cam00_WFC3-F160W_SB00.fits\n",
      "--------\n",
      "\n",
      "Added noise to VELA01_a0.430_sunrise_cam00_WFC3-F160W_SB00.fits\n",
      "--------\n",
      "\n",
      "Added noise to VELA01_a0.280_sunrise_cam00_WFC3-F160W_SB00.fits\n",
      "--------\n",
      "\n",
      "Added noise to VELA01_a0.090_sunrise_cam00_WFC3-F160W_SB00.fits\n",
      "--------\n",
      "\n",
      "Added noise to VELA01_a0.310_sunrise_cam00_WFC3-F160W_SB00.fits\n",
      "--------\n",
      "\n",
      "Added noise to VELA01_a0.450_sunrise_cam00_WFC3-F160W_SB00.fits\n",
      "--------\n",
      "\n",
      "Added noise to VELA01_a0.390_sunrise_cam00_WFC3-F160W_SB00.fits\n",
      "--------\n",
      "\n",
      "Added noise to VELA01_a0.150_sunrise_cam00_WFC3-F160W_SB00.fits\n",
      "--------\n",
      "\n",
      "Added noise to VELA01_a0.480_sunrise_cam00_WFC3-F160W_SB00.fits\n",
      "--------\n",
      "\n",
      "Added noise to VELA01_a0.370_sunrise_cam00_WFC3-F160W_SB00.fits\n",
      "--------\n",
      "\n",
      "Added noise to VELA01_a0.080_sunrise_cam00_WFC3-F160W_SB00.fits\n",
      "--------\n",
      "\n",
      "Added noise to VELA01_a0.340_sunrise_cam00_WFC3-F160W_SB00.fits\n",
      "--------\n",
      "\n",
      "Added noise to VELA01_a0.140_sunrise_cam00_WFC3-F160W_SB00.fits\n",
      "--------\n",
      "\n",
      "Added noise to VELA01_a0.500_sunrise_cam00_WFC3-F160W_SB00.fits\n",
      "--------\n",
      "\n",
      "Added noise to VELA01_a0.220_sunrise_cam00_WFC3-F160W_SB00.fits\n",
      "--------\n",
      "\n",
      "Added noise to VELA01_a0.420_sunrise_cam00_WFC3-F160W_SB00.fits\n",
      "--------\n",
      "\n",
      "Added noise to VELA01_a0.270_sunrise_cam00_WFC3-F160W_SB00.fits\n",
      "--------\n",
      "\n",
      "Added noise to VELA01_a0.250_sunrise_cam00_WFC3-F160W_SB00.fits\n",
      "--------\n",
      "\n",
      "Added noise to VELA01_a0.200_sunrise_cam00_WFC3-F160W_SB00.fits\n",
      "--------\n",
      "\n",
      "Added noise to VELA01_a0.460_sunrise_cam00_WFC3-F160W_SB00.fits\n",
      "--------\n",
      "\n",
      "Added noise to VELA01_a0.120_sunrise_cam00_WFC3-F160W_SB00.fits\n",
      "--------\n",
      "\n",
      "Added noise to VELA01_a0.260_sunrise_cam00_WFC3-F160W_SB00.fits\n",
      "--------\n",
      "\n",
      "Added noise to VELA01_a0.330_sunrise_cam00_WFC3-F160W_SB00.fits\n",
      "--------\n",
      "\n",
      "Added noise to VELA01_a0.210_sunrise_cam00_WFC3-F160W_SB00.fits\n",
      "--------\n",
      "\n",
      "Added noise to VELA01_a0.070_sunrise_cam00_WFC3-F160W_SB00.fits\n",
      "--------\n",
      "\n",
      "Added noise to VELA01_a0.160_sunrise_cam00_WFC3-F160W_SB00.fits\n",
      "--------\n",
      "\n",
      "Added noise to VELA01_a0.170_sunrise_cam00_WFC3-F160W_SB00.fits\n",
      "--------\n",
      "\n",
      "Added noise to VELA01_a0.350_sunrise_cam00_WFC3-F160W_SB00.fits\n",
      "--------\n",
      "\n",
      "Added noise to VELA01_a0.050_sunrise_cam00_WFC3-F160W_SB00.fits\n",
      "--------\n",
      "\n",
      "Added noise to VELA01_a0.400_sunrise_cam00_WFC3-F160W_SB00.fits\n",
      "--------\n",
      "\n",
      "Added noise to VELA01_a0.240_sunrise_cam00_WFC3-F160W_SB00.fits\n",
      "--------\n",
      "\n",
      "Added noise to VELA01_a0.320_sunrise_cam00_WFC3-F160W_SB00.fits\n",
      "--------\n",
      "\n",
      "Added noise to VELA01_a0.470_sunrise_cam00_WFC3-F160W_SB00.fits\n",
      "--------\n",
      "\n"
     ]
    }
   ],
   "source": [
    "###---<MAIN_LOOP>---### (CORE) #<OCODE>  # Going through each VELA run in the following for loop.\n",
    "time_start = time.time()\n",
    "VELA_number = ['01']                #VELA_id  #id_gal for the loop\n",
    "for each_vela_run in VELA_number:                          #<ME> uso de \"ID_list\"(data_params.py)  #['01']\n",
    "    # If a destination folder where the noise-added images need to be placed does not exist, then make the folder with corresponding VELA run number.\n",
    "    if not os.path.exists('%s/VELA%s'%(destin_dir,each_vela_run)):\n",
    "        os.mkdir('%s/VELA%s'%(destin_dir,each_vela_run))\n",
    "    \n",
    "    # Get the list of noise-less vela images matching the VELA run ID number. The asterisk means that search for all camera angles and timesteps.\n",
    "    # Please change the filter name and the total path as needed.\n",
    "    list_of_noise_less_vela_image = glob.glob('%s/VELA%s_F160W_SB00/*_*_*_cam*_WFC3-F160W_SB00.fits'%(noise_dir,each_vela_run))  #<ME> (OCODE sb00_loc)\n",
    "    \n",
    "    # For each vela image in the list,\n",
    "    for vela_image in list_of_noise_less_vela_image:\n",
    "        can_image = np.random.choice(list_of_candels_image) \n",
    "        \n",
    "        noise_addition_pipeline.extract_noise_and_exp_patches(can_image,                \n",
    "                                                              vela_image,\n",
    "                                                              make_plots    = False,\n",
    "                                                              is_image_cube = False,\n",
    "                                                              plots_loc     = plot_save_loc,\n",
    "                                                              fits_save_loc = destin_dir)       #<ME> make_plots=False, is_image_cube=False\n",
    "        \n",
    "        print('Added noise to %s\\n--------\\n'%os.path.basename(vela_image))\n",
    "        \n",
    "time_end = time.time()"
   ]
  },
  {
   "cell_type": "code",
   "execution_count": 112,
   "metadata": {},
   "outputs": [
    {
     "name": "stdout",
     "output_type": "stream",
     "text": [
      "execution_time: 0.004202365875244141\n",
      "02\n",
      "02\n"
     ]
    }
   ],
   "source": [
    "print(\"execution_time:\",time_end-time_start)\n",
    "print(VELA_id)\n",
    "print(VELA_number[0])"
   ]
  },
  {
   "cell_type": "markdown",
   "metadata": {},
   "source": [
    "#INFO#\n",
    "https://docs.scipy.org/doc/numpy/reference/generated/numpy.hstack.html"
   ]
  },
  {
   "cell_type": "markdown",
   "metadata": {},
   "source": [
    "#-CHANGES-# in noise_addition_pipeline.py\n",
    "28/03 - Changed the data HDU index inside fits from [1] to [0]. (PrimaryHDU)\n",
    "28/03 - Changed \"how_many_hstacks = int(x_shape/10.)\" y \"how_many_vstacks = int(y_shape/10.)\" ahora son enteros\n",
    "28/03 - /usr/local/lib/python3.4/site-packages/matplotlib/axes/_axes.py:6462: UserWarning: The 'normed' kwarg is deprecated, and has been replaced by the 'density' kwarg."
   ]
  },
  {
   "cell_type": "code",
   "execution_count": null,
   "metadata": {},
   "outputs": [],
   "source": []
  },
  {
   "cell_type": "code",
   "execution_count": null,
   "metadata": {},
   "outputs": [],
   "source": []
  }
 ],
 "metadata": {
  "kernelspec": {
   "display_name": "Python 3",
   "language": "python",
   "name": "python3"
  },
  "language_info": {
   "codemirror_mode": {
    "name": "ipython",
    "version": 3
   },
   "file_extension": ".py",
   "mimetype": "text/x-python",
   "name": "python",
   "nbconvert_exporter": "python",
   "pygments_lexer": "ipython3",
   "version": "3.4.6"
  }
 },
 "nbformat": 4,
 "nbformat_minor": 2
}
