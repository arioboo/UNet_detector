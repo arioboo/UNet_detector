{
 "cells": [
  {
   "cell_type": "code",
   "execution_count": 3,
   "metadata": {},
   "outputs": [
    {
     "name": "stdout",
     "output_type": "stream",
     "text": [
      "\u001b[33mDEPRECATION: Python 3.4 support has been deprecated. pip 19.1 will be the last one supporting it. Please upgrade your Python as Python 3.4 won't be maintained after March 2019 (cf PEP 429).\u001b[0m\n",
      "Requirement already satisfied: astropy in /usr/local/lib/python3.4/site-packages (from -r requirements.txt (line 1)) (2.0.12)\n",
      "Requirement already satisfied: h5py in /usr/local/lib/python3.4/site-packages (from -r requirements.txt (line 2)) (2.9.0)\n",
      "Requirement already satisfied: pytest<3.7,>=2.8 in /usr/local/lib/python3.4/site-packages (from astropy->-r requirements.txt (line 1)) (3.6.4)\n",
      "Requirement already satisfied: numpy>=1.9.0 in /usr/local/lib/python3.4/site-packages (from astropy->-r requirements.txt (line 1)) (1.14.2)\n",
      "Requirement already satisfied: six in /usr/local/lib/python3.4/site-packages (from h5py->-r requirements.txt (line 2)) (1.11.0)\n",
      "Requirement already satisfied: atomicwrites>=1.0 in /usr/local/lib/python3.4/site-packages (from pytest<3.7,>=2.8->astropy->-r requirements.txt (line 1)) (1.3.0)\n",
      "Requirement already satisfied: pluggy<0.8,>=0.5 in /usr/local/lib/python3.4/site-packages (from pytest<3.7,>=2.8->astropy->-r requirements.txt (line 1)) (0.7.1)\n",
      "Requirement already satisfied: setuptools in /usr/local/lib/python3.4/site-packages (from pytest<3.7,>=2.8->astropy->-r requirements.txt (line 1)) (39.0.1)\n",
      "Requirement already satisfied: py>=1.5.0 in /usr/local/lib/python3.4/site-packages (from pytest<3.7,>=2.8->astropy->-r requirements.txt (line 1)) (1.8.0)\n",
      "Requirement already satisfied: more-itertools>=4.0.0 in /usr/local/lib/python3.4/site-packages (from pytest<3.7,>=2.8->astropy->-r requirements.txt (line 1)) (7.0.0)\n",
      "Requirement already satisfied: attrs>=17.4.0 in /usr/local/lib/python3.4/site-packages (from pytest<3.7,>=2.8->astropy->-r requirements.txt (line 1)) (19.1.0)\n"
     ]
    }
   ],
   "source": [
    "############-----------author:arioboo------------###############\n",
    "#PYTHON_DIRECTORY\n",
    "#!pip install -r \"requirements.txt\"\n",
    "#!pip install --upgrade pip"
   ]
  },
  {
   "cell_type": "code",
   "execution_count": 48,
   "metadata": {},
   "outputs": [],
   "source": [
    "import tools.analyzer as analyzer\n",
    "import tools.changer as changer\n",
    "import tools.cutter as cutter   ; import tools.padder as padder\n",
    "import tools.noiser as noiser\n",
    "import tools.pd_tools as pd_tools\n",
    "import tools.plotter as plotter\n",
    "import tools.printer as printer\n",
    "import tools.saver as saver\n",
    "import tools.selecter as sel \n",
    "#-<my_modules>-#\n",
    "from params.data_params import *"
   ]
  },
  {
   "cell_type": "code",
   "execution_count": 49,
   "metadata": {},
   "outputs": [
    {
     "name": "stdout",
     "output_type": "stream",
     "text": [
      "The autoreload extension is already loaded. To reload it, use:\n",
      "  %reload_ext autoreload\n"
     ]
    }
   ],
   "source": [
    "%load_ext autoreload\n",
    "%autoreload 2"
   ]
  },
  {
   "cell_type": "code",
   "execution_count": null,
   "metadata": {},
   "outputs": [],
   "source": []
  },
  {
   "cell_type": "code",
   "execution_count": null,
   "metadata": {},
   "outputs": [],
   "source": [
    "###--------<END>--------###"
   ]
  }
 ],
 "metadata": {
  "kernelspec": {
   "display_name": "Python 3",
   "language": "python",
   "name": "python3"
  },
  "language_info": {
   "codemirror_mode": {
    "name": "ipython",
    "version": 3
   },
   "file_extension": ".py",
   "mimetype": "text/x-python",
   "name": "python",
   "nbconvert_exporter": "python",
   "pygments_lexer": "ipython3",
   "version": "3.4.6"
  }
 },
 "nbformat": 4,
 "nbformat_minor": 2
}
