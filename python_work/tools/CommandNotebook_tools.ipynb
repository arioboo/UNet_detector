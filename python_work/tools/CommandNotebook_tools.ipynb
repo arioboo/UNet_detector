{
 "cells": [
  {
   "cell_type": "code",
   "execution_count": 4,
   "metadata": {},
   "outputs": [],
   "source": [
    "#general_modules\n",
    "import numpy as np\n",
    "import matplotlib.pyplot as plt\n",
    "plt.ion()\n",
    "import pandas as pd\n",
    "\n",
    "%reload_ext autoreload\n",
    "%autoreload 2"
   ]
  },
  {
   "cell_type": "code",
   "execution_count": 2,
   "metadata": {},
   "outputs": [],
   "source": [
    "#tools_modules\n",
    "import analyzer "
   ]
  },
  {
   "cell_type": "code",
   "execution_count": null,
   "metadata": {},
   "outputs": [],
   "source": []
  },
  {
   "cell_type": "code",
   "execution_count": 3,
   "metadata": {},
   "outputs": [
    {
     "data": {
      "text/plain": [
       "array([16.])"
      ]
     },
     "execution_count": 3,
     "metadata": {},
     "output_type": "execute_result"
    }
   ],
   "source": [
    "#data\n",
    "x = np.array([[1, 1], [1, 2], [2, 2], [2, 3]])\n",
    "y = np.dot(x, np.array([1, 2])) + 3                # y = 1 * x_0 + 2 * x_1 + 3\n",
    "#function_call\n",
    "reg=analyzer.sklearn_linregress(x,y)\n",
    "#proof\n",
    "reg.score(x,y)\n",
    "reg.coef_\n",
    "reg.intercept_\n",
    "reg.predict(np.array([[3, 5]]))"
   ]
  },
  {
   "cell_type": "code",
   "execution_count": 4,
   "metadata": {},
   "outputs": [
    {
     "data": {
      "text/plain": [
       "'\\nMethods\\nfit(X, y[, sample_weight]) \\tFit linear model.\\nget_params([deep]) \\tGet parameters for this estimator.\\npredict(X) \\tPredict using the linear model\\nscore(X, y[, sample_weight]) \\tReturns the coefficient of determination R^2 of the prediction.\\nset_params(**params) \\tSet the parameters of this estimator\\n'"
      ]
     },
     "execution_count": 4,
     "metadata": {},
     "output_type": "execute_result"
    }
   ],
   "source": [
    "'''\n",
    "Methods\n",
    "fit(X, y[, sample_weight]) \tFit linear model.\n",
    "get_params([deep]) \tGet parameters for this estimator.\n",
    "predict(X) \tPredict using the linear model\n",
    "score(X, y[, sample_weight]) \tReturns the coefficient of determination R^2 of the prediction.\n",
    "set_params(**params) \tSet the parameters of this estimator\n",
    "'''"
   ]
  },
  {
   "cell_type": "code",
   "execution_count": 5,
   "metadata": {},
   "outputs": [],
   "source": [
    "\n",
    "def func(x, a, b, c):\n",
    "     return a * np.exp(-b * x) + c    #a,b,c parameters\n",
    "\n",
    "    \n",
    "from scipy import optimize\n",
    "def sp_curvefit(xdata,ydata):\n",
    "    popt, pcov = optimize.curve_fit(func,xdata,ydata)\n",
    "    #\n",
    "    return popt,pcov\n"
   ]
  },
  {
   "cell_type": "code",
   "execution_count": 6,
   "metadata": {},
   "outputs": [],
   "source": [
    "xdata = np.linspace(0, 4, 50)\n",
    "y = func(xdata, 2.5, 1.3, 0.5)\n",
    "np.random.seed(1729)\n",
    "y_noise = 0.2 * np.random.normal(size=xdata.size)\n",
    "ydata = y + y_noise\n",
    "popt,pcov = analyzer.sp_curvefit(xdata,ydata)"
   ]
  },
  {
   "cell_type": "code",
   "execution_count": 12,
   "metadata": {},
   "outputs": [],
   "source": [
    "#fit_data\n",
    "fit=func(xdata,*popt)\n"
   ]
  },
  {
   "cell_type": "code",
   "execution_count": 13,
   "metadata": {},
   "outputs": [
    {
     "data": {
      "text/plain": [
       "[<matplotlib.lines.Line2D at 0x7f486ebb9710>]"
      ]
     },
     "execution_count": 13,
     "metadata": {},
     "output_type": "execute_result"
    },
    {
     "data": {
      "image/png": "[encoded data removed]",
      "text/plain": [
       "<Figure size 432x288 with 1 Axes>"
      ]
     },
     "metadata": {},
     "output_type": "display_data"
    }
   ],
   "source": [
    "#PLOT_FIT\n",
    "plt.plot(xdata,fit)\n",
    "\n"
   ]
  },
  {
   "cell_type": "code",
   "execution_count": 5,
   "metadata": {},
   "outputs": [],
   "source": [
    "\n",
    "dates = pd.date_range('20130101', periods=6)\n",
    "\n",
    "df = pd.DataFrame(np.random.randn(6, 4), index=dates, columns=list('ABCD'))"
   ]
  },
  {
   "cell_type": "code",
   "execution_count": null,
   "metadata": {},
   "outputs": [],
   "source": []
  }
 ],
 "metadata": {
  "kernelspec": {
   "display_name": "Python 3",
   "language": "python",
   "name": "python3"
  },
  "language_info": {
   "codemirror_mode": {
    "name": "ipython",
    "version": 3
   },
   "file_extension": ".py",
   "mimetype": "text/x-python",
   "name": "python",
   "nbconvert_exporter": "python",
   "pygments_lexer": "ipython3",
   "version": "3.4.6"
  }
 },
 "nbformat": 4,
 "nbformat_minor": 2
}
